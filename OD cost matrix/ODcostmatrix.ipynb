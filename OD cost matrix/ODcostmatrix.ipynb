{
 "cells": [
  {
   "cell_type": "code",
   "execution_count": null,
   "metadata": {},
   "outputs": [],
   "source": [
    "import requests\n",
    "import pandas as pd\n",
    "\n",
    "# Read API key from .txt file\n",
    "with open('../../Papers/mode choice/TRB2024/HHTS2012/codes_biogeme/API.txt', 'r') as f:\n",
    "    api_key = f.read().strip()"
   ]
  },
  {
   "cell_type": "markdown",
   "metadata": {},
   "source": [
    "#### OD Matrix creation"
   ]
  },
  {
   "cell_type": "code",
   "execution_count": null,
   "metadata": {},
   "outputs": [],
   "source": [
    "# Read location data from CSV\n",
    "data1=pd.read_excel('ODcostmatrix.xlsx',sheet_name ='ODcostmatrix',index_col=0)\n",
    "data1"
   ]
  },
  {
   "cell_type": "code",
   "execution_count": null,
   "metadata": {},
   "outputs": [],
   "source": [
    "base_url = \"http://dev.virtualearth.net/REST/v1/Routes/DistanceMatrix?\"\n",
    "\n",
    "locations = \";\".join([f\"{lat},{long}\" for lat, long in zip(data1['lat'], data1['long'])])\n",
    "\n",
    "url = f\"{base_url}origins={locations}&destinations={locations}&travelMode=driving&key={api_key}\"\n",
    "\n",
    "response = requests.get(url)\n",
    "result = response.json()\n",
    "\n",
    "distance_matrix = result['resourceSets'][0]['resources'][0]['results']\n",
    "\n",
    "cost_matrix = pd.DataFrame(index=data1.index, columns=data1.index)\n",
    "\n",
    "for i in range(len(data1)):\n",
    "    for j in range(len(data1)):\n",
    "        cost_matrix.iloc[i, j] = distance_matrix[i * len(data1) + j]['travelDistance']/1.6\n",
    "\n",
    "cost_matrix"
   ]
  },
  {
   "cell_type": "markdown",
   "metadata": {},
   "source": [
    "### Mode Specific Travel time in a single Row"
   ]
  },
  {
   "cell_type": "code",
   "execution_count": null,
   "metadata": {},
   "outputs": [],
   "source": [
    "# # Read location data from CSV\n",
    "# data2=pd.read_excel('ODcostmatrix.xlsx',sheet_name ='self_made_data',index_col=0)\n",
    "# data2.head()"
   ]
  },
  {
   "cell_type": "code",
   "execution_count": null,
   "metadata": {},
   "outputs": [],
   "source": [
    "# # Function to get trip time for a specific mode\n",
    "# def get_trip_time(origin_lat, origin_long, dest_lat, dest_long, mode_choice, departure_time=None):\n",
    "#     base_url = 'https://dev.virtualearth.net/REST/V1/Routes'\n",
    "#     params = {\n",
    "#         'wp.0': f'{origin_lat},{origin_long}',\n",
    "#         'wp.1': f'{dest_lat},{dest_long}',\n",
    "#         'key': api_key,\n",
    "#     }\n",
    "\n",
    "#     if mode_choice == 'transit':\n",
    "#         base_url += '/Transit'\n",
    "#         if departure_time is not None:\n",
    "#             params['dateTime'] = departure_time\n",
    "#             params['timeType'] = 'Departure'\n",
    "\n",
    "#     elif mode_choice == 'walking':\n",
    "#         base_url += '/Walking'\n",
    "\n",
    "#     elif mode_choice == 'bike':\n",
    "#         base_url += '/Walking'\n",
    "\n",
    "#     else:\n",
    "#         base_url += '/Driving'\n",
    "\n",
    "#     response = requests.get(base_url, params=params)\n",
    "#     data = response.json()\n",
    "\n",
    "#     # Extract the trip duration from the response\n",
    "#     if mode_choice == 'transit':\n",
    "#         trip_duration = data['resourceSets'][0]['resources'][0]['travelDuration']\n",
    "\n",
    "#     elif mode_choice == 'walking':\n",
    "#         trip_duration = data['resourceSets'][0]['resources'][0]['travelDuration']\n",
    "    \n",
    "#     elif mode_choice=='bike':\n",
    "#         trip_duration = data['resourceSets'][0]['resources'][0]['travelDuration']\n",
    "\n",
    "#     else:\n",
    "#         trip_duration = data['resourceSets'][0]['resources'][0]['routeLegs'][0]['travelDuration']\n",
    "\n",
    "#     return trip_duration"
   ]
  },
  {
   "cell_type": "code",
   "execution_count": null,
   "metadata": {},
   "outputs": [],
   "source": [
    "# # Iterate through each row and get trip time for each mode\n",
    "# for index, row in data2.iterrows():\n",
    "#     origin_lat = row['o_lat']\n",
    "#     origin_long = row['o_long']\n",
    "#     dest_lat = row['d_lat']\n",
    "#     dest_long = row['d_long']\n",
    "#     mode_choice = row['mode_choice']\n",
    "\n",
    "#     if mode_choice == 'transit':\n",
    "#     # Specify the departure_time for transit mode (replace '2023-07-20T08:00:00' with your desired time)\n",
    "#         departure_time = '2023-07-20T08:00:00'\n",
    "#         transit_time = get_trip_time(origin_lat, origin_long, dest_lat, dest_long, 'transit', departure_time)\n",
    "#         travel_time = transit_time / 60\n",
    "    \n",
    "#     elif mode_choice == 'walking':\n",
    "#         walk_time = get_trip_time(origin_lat, origin_long, dest_lat, dest_long, 'walking')\n",
    "#         travel_time = walk_time / 60\n",
    "    \n",
    "#     elif mode_choice == 'bike':\n",
    "#         bike_time = get_trip_time(origin_lat, origin_long, dest_lat, dest_long, 'bike')\n",
    "#         travel_time = bike_time / (3 * 60)\n",
    "    \n",
    "#     else:\n",
    "#         car_time = get_trip_time(origin_lat, origin_long, dest_lat, dest_long, 'car')\n",
    "#         travel_time = car_time / 60\n",
    "    \n",
    "#     data2.at[index, 'travel_time'] = travel_time\n",
    "\n",
    "# # Print the results\n",
    "# print(data2)"
   ]
  },
  {
   "cell_type": "markdown",
   "metadata": {},
   "source": [
    "### OD matrix CVTD Blue loop"
   ]
  },
  {
   "cell_type": "code",
   "execution_count": null,
   "metadata": {},
   "outputs": [],
   "source": [
    "# Read location data from CSV\n",
    "data=pd.read_excel('ODcostmatrix.xlsx',sheet_name ='CVTD_blueloop_stop',index_col=0)\n",
    "data.head()\n",
    "# Split the 'x,y' column into 'Latitude' and 'Longitude' columns\n",
    "data[['o_lat', 'o_long']] = data['originx,y'].str.split(',', expand=True)\n",
    "data[['d_lat', 'd_long']] = data['destx,y'].str.split(',', expand=True)\n",
    "data.head()\n",
    "columns_to_drop = ['originx,y', 'destx,y']\n",
    "data.drop(columns_to_drop, axis=1, inplace=True)\n",
    "data.head()"
   ]
  },
  {
   "cell_type": "markdown",
   "metadata": {},
   "source": [
    "OD Matrix"
   ]
  },
  {
   "cell_type": "code",
   "execution_count": null,
   "metadata": {},
   "outputs": [],
   "source": [
    "# base_url = \"http://dev.virtualearth.net/REST/v1/Routes/DistanceMatrix?\"\n",
    "\n",
    "# locations = \";\".join([f\"{lat},{long}\" for lat, long in zip(data2['o_lat'], data2['o_long'])])\n",
    "\n",
    "# url = f\"{base_url}origins={locations}&destinations={locations}&travelMode=driving&key={api_key}\"\n",
    "\n",
    "# response = requests.get(url)\n",
    "# result = response.json()\n",
    "\n",
    "# distance_matrix = result['resourceSets'][0]['resources'][0]['results']\n",
    "\n",
    "# cost_matrix = pd.DataFrame(index=data2.index, columns=data2.index)\n",
    "\n",
    "# for i in range(len(data2)):\n",
    "#     for j in range(len(data2)):\n",
    "#         cost_matrix.iloc[i, j] = distance_matrix[i * len(data2) + j]['travelDistance']/1.6   # Distance in miles\n",
    "\n",
    "# cost_matrix      # Bing Map API has 25*25 OD matrix limitation"
   ]
  },
  {
   "cell_type": "markdown",
   "metadata": {},
   "source": [
    "#### Travel time for each mode choices for each choice sets"
   ]
  },
  {
   "cell_type": "code",
   "execution_count": null,
   "metadata": {},
   "outputs": [],
   "source": [
    "# # Travel time for each mode choices for each choice sets\n",
    "# def get_trip_time(origin_lat, origin_long, dest_lat, dest_long, mode_choice, departure_time=None):\n",
    "#     base_url = 'https://dev.virtualearth.net/REST/V1/Routes'\n",
    "#     params = {\n",
    "#         'wp.0': f'{origin_lat},{origin_long}',\n",
    "#         'wp.1': f'{dest_lat},{dest_long}',\n",
    "#         'key': api_key,\n",
    "#     }\n",
    "\n",
    "#     if mode_choice == 'transit':\n",
    "#         base_url += '/Transit'\n",
    "#         if departure_time is not None:\n",
    "#             params['dateTime'] = departure_time\n",
    "#             params['timeType'] = 'Departure'\n",
    "\n",
    "#     elif mode_choice == 'walking':\n",
    "#         base_url += '/Walking'\n",
    "\n",
    "#     elif mode_choice == 'carpool':\n",
    "#         base_url += '/Driving'\n",
    "\n",
    "#     else:\n",
    "#         base_url += '/Driving'\n",
    "\n",
    "#     response = requests.get(base_url, params=params)\n",
    "#     data = response.json()\n",
    "\n",
    "#     # Extract the trip duration from the response\n",
    "#     if mode_choice == 'transit':\n",
    "#         trip_duration = data['resourceSets'][0]['resources'][0]['travelDuration']\n",
    "\n",
    "#     elif mode_choice == 'walking':\n",
    "#         trip_duration = data['resourceSets'][0]['resources'][0]['travelDuration']\n",
    "\n",
    "#     else:\n",
    "#         trip_duration = data['resourceSets'][0]['resources'][0]['routeLegs'][0]['travelDuration']\n",
    "\n",
    "#     return trip_duration\n",
    "\n",
    "\n",
    "\n",
    "# # Add new columns for trip times\n",
    "# data2['car_time'] = None\n",
    "# data2['carpool_time'] = None\n",
    "# data2['transit_time'] = None\n",
    "# data2['walk_time'] = None\n",
    "\n",
    "# # Iterate through each row and get trip time for each mode\n",
    "# for index, row in data2.iterrows():\n",
    "#     origin_lat = row['o_lat']\n",
    "#     origin_long = row['o_long']\n",
    "#     dest_lat = row['d_lat']\n",
    "#     dest_long = row['d_long']\n",
    "\n",
    "#     car_time = get_trip_time(origin_lat, origin_long, dest_lat, dest_long, 'car')\n",
    "#     data2.at[index, 'car_time'] = car_time / 60\n",
    "\n",
    "#     carpool_time = get_trip_time(origin_lat, origin_long, dest_lat, dest_long, 'carpool')\n",
    "#     data2.at[index, 'carpool_time'] = carpool_time * 1.20 / 60\n",
    "\n",
    "#     # Specify the departure_time for transit mode (replace '2023-07-20T08:00:00' with your desired time)\n",
    "#     departure_time = '2023-07-20T08:00:00'\n",
    "#     transit_time = get_trip_time(origin_lat, origin_long, dest_lat, dest_long, 'transit', departure_time)\n",
    "#     data2.at[index, 'transit_time'] = transit_time / 60\n",
    "\n",
    "#     walk_time = get_trip_time(origin_lat, origin_long, dest_lat, dest_long, 'walking')\n",
    "#     data2.at[index, 'walk_time'] = walk_time / 60\n",
    "\n",
    "# # Print the results\n",
    "# print(data2)"
   ]
  },
  {
   "cell_type": "markdown",
   "metadata": {},
   "source": [
    "### Mode specific origin destination travel time for space time prism"
   ]
  },
  {
   "cell_type": "code",
   "execution_count": null,
   "metadata": {},
   "outputs": [],
   "source": [
    "# Function to get trip time for a specific mode\n",
    "def get_trip_time(origin_lat, origin_long, dest_lat, dest_long, mode_choice, departure_time=None):\n",
    "    base_url = 'https://dev.virtualearth.net/REST/V1/Routes'\n",
    "    params = {\n",
    "        'wp.0': f'{origin_lat},{origin_long}',\n",
    "        'wp.1': f'{dest_lat},{dest_long}',\n",
    "        'key': api_key,\n",
    "    }\n",
    "\n",
    "    if mode_choice == 'transit':\n",
    "        base_url += '/Transit'\n",
    "        if departure_time is not None:\n",
    "            params['dateTime'] = departure_time\n",
    "            params['timeType'] = 'Departure'\n",
    "\n",
    "    elif mode_choice == 'walking':\n",
    "        base_url += '/Walking'\n",
    "\n",
    "    else:\n",
    "        base_url += '/Driving'\n",
    "\n",
    "    response = requests.get(base_url, params=params)\n",
    "    data = response.json()\n",
    "\n",
    "    # Extract the trip duration from the response\n",
    "    if mode_choice == 'transit':\n",
    "        trip_duration = data['resourceSets'][0]['resources'][0]['travelDuration']\n",
    "\n",
    "    elif mode_choice == 'walking':\n",
    "        trip_duration = data['resourceSets'][0]['resources'][0]['travelDuration']\n",
    "    \n",
    "    elif mode_choice=='carpool':\n",
    "        trip_duration = data['resourceSets'][0]['resources'][0]['routeLegs'][0]['travelDuration']\n",
    "\n",
    "    else:\n",
    "        trip_duration = data['resourceSets'][0]['resources'][0]['routeLegs'][0]['travelDuration']\n",
    "\n",
    "    return trip_duration"
   ]
  },
  {
   "cell_type": "code",
   "execution_count": null,
   "metadata": {},
   "outputs": [],
   "source": [
    "# Iterate through each row and get trip time for each mode\n",
    "for index, row in data.iterrows():\n",
    "    origin_lat = row['o_lat']\n",
    "    origin_long = row['o_long']\n",
    "    dest_lat = row['d_lat']\n",
    "    dest_long = row['d_long']\n",
    "    mode_choice = row['mode_choice']\n",
    "\n",
    "    if mode_choice == 'transit':\n",
    "    # Specify the departure_time for transit mode (replace '2023-07-20T08:00:00' with your desired time)\n",
    "        departure_time = '2023-07-20T08:00:00'\n",
    "        transit_time = get_trip_time(origin_lat, origin_long, dest_lat, dest_long, 'transit', departure_time)\n",
    "        travel_time = transit_time / 60\n",
    "    \n",
    "    elif mode_choice == 'walking':\n",
    "        walk_time = get_trip_time(origin_lat, origin_long, dest_lat, dest_long, 'walking')\n",
    "        travel_time = walk_time / 60\n",
    "    \n",
    "    elif mode_choice == 'car':\n",
    "        car_time = get_trip_time(origin_lat, origin_long, dest_lat, dest_long, 'car')\n",
    "        travel_time = car_time / 60\n",
    "    \n",
    "    else:\n",
    "        carpool_time = get_trip_time(origin_lat, origin_long, dest_lat, dest_long, 'carpool')\n",
    "        travel_time = carpool_time * 1.2 / 60\n",
    "    \n",
    "    data.at[index, 'travel_time'] = travel_time\n",
    "\n",
    "# Print the results\n",
    "print(data)"
   ]
  },
  {
   "cell_type": "markdown",
   "metadata": {},
   "source": [
    "## Google Map API"
   ]
  },
  {
   "cell_type": "code",
   "execution_count": 2,
   "metadata": {},
   "outputs": [],
   "source": [
    "import requests\n",
    "import pandas as pd\n",
    "from datetime import datetime\n",
    "# %pip install gmaps\n",
    "import gmaps\n",
    "import gmaps.datasets\n",
    "import gmaps.geojson_geometries \n",
    "import googlemaps"
   ]
  },
  {
   "cell_type": "code",
   "execution_count": 3,
   "metadata": {},
   "outputs": [],
   "source": [
    "# Read API key from .txt file\n",
    "with open('G_api_key.txt', 'r') as f:\n",
    "    api_key = f.read().strip()"
   ]
  },
  {
   "cell_type": "code",
   "execution_count": null,
   "metadata": {},
   "outputs": [],
   "source": [
    "# Read location data from CSV\n",
    "data=pd.read_excel('ODcostmatrix.xlsx',sheet_name ='CVTD_blueloop_stop',index_col=0)\n",
    "data=data.iloc[:4]\n",
    "data"
   ]
  },
  {
   "cell_type": "code",
   "execution_count": null,
   "metadata": {},
   "outputs": [],
   "source": [
    "# Split the 'x,y' column into 'Latitude' and 'Longitude' columns\n",
    "data[['o_lat', 'o_long']] = data['originx,y'].str.split(',', expand=True)\n",
    "data[['d_lat', 'd_long']] = data['destx,y'].str.split(',', expand=True)\n",
    "data.head()\n",
    "columns_to_drop = ['originx,y', 'destx,y']\n",
    "data.drop(columns_to_drop, axis=1, inplace=True)\n",
    "data.head(6)"
   ]
  },
  {
   "cell_type": "markdown",
   "metadata": {},
   "source": [
    "### mode specific travel time (Shrt_T)"
   ]
  },
  {
   "cell_type": "code",
   "execution_count": null,
   "metadata": {},
   "outputs": [],
   "source": [
    "# Initialize a list to store calculated travel durations\n",
    "travel_durations = []\n",
    "\n",
    "# Iterate through each row in the dataset\n",
    "for index, row in data.iterrows():\n",
    "    origin = f\"{row['o_lat']},{row['o_long']}\"\n",
    "    destination = f\"{row['d_lat']},{row['d_long']}\"\n",
    "    mode = row['mode_choice']\n",
    "\n",
    "    if mode == 'transit':\n",
    "        # Specify the desired departure time for transit (UNIX timestamp)\n",
    "        departure_time = int(datetime(2023, 8, 25, 8, 0).timestamp())\n",
    "        url = f'https://maps.googleapis.com/maps/api/directions/json?origin={origin}&destination={destination}&mode={mode}&departure_time={departure_time}&key={api_key}'\n",
    "    else:\n",
    "        url = f'https://maps.googleapis.com/maps/api/directions/json?origin={origin}&destination={destination}&mode={mode}&key={api_key}'\n",
    "\n",
    "    # Make a request to the Directions API\n",
    "    response = requests.get(url)\n",
    "    json_data = response.json()\n",
    "\n",
    "    # Extract and store the travel duration\n",
    "    try:\n",
    "        duration_text = json_data['routes'][0]['legs'][0]['duration']['text']\n",
    "        numerical_duration = int(''.join(filter(str.isdigit, duration_text)))\n",
    "        travel_durations.append(numerical_duration)\n",
    "    except KeyError:\n",
    "        travel_durations.append('N/A')  # Handle errors or unsupported modes\n",
    "\n",
    "# Add the travel durations to the DataFrame\n",
    "data['travel_duration'] = travel_durations\n",
    "data"
   ]
  },
  {
   "cell_type": "markdown",
   "metadata": {},
   "source": [
    "### Travel distance as per google direction in miles"
   ]
  },
  {
   "cell_type": "code",
   "execution_count": null,
   "metadata": {},
   "outputs": [],
   "source": [
    "# g_maps = googlemaps.Client(key=api_key)\n",
    "# # Function to calculate distance using Google Maps API\n",
    "# def calculate_distance(row):\n",
    "#     origin = (row['o_lat'], row['o_long'])\n",
    "#     destination = (row['d_lat'], row['d_long'])\n",
    "#     mode = row['mode_choice']\n",
    "\n",
    "#     if mode == 'car':\n",
    "#         mode = 'driving'\n",
    "#     elif mode == 'carpool':\n",
    "#         mode = 'driving'\n",
    "#     elif mode == 'transit':\n",
    "#         mode = 'transit'\n",
    "#     elif mode == 'walking':\n",
    "#         mode = 'walking'\n",
    "    \n",
    "#     # Requesting distance from Google Maps API\n",
    "#     directions_result = g_maps.directions(origin, destination, mode=mode)\n",
    "    \n",
    "#     # Extracting distance value from API response\n",
    "#     if directions_result:\n",
    "#         distance = directions_result[0]['legs'][0]['distance']['value']\n",
    "#         return distance/1600   # distance in miles\n",
    "#     else:\n",
    "#         return None\n",
    "\n",
    "# # Applying the function to create the 'travel_distance' column\n",
    "# data['travel_distance'] = data.apply(calculate_distance, axis=1)"
   ]
  },
  {
   "cell_type": "code",
   "execution_count": null,
   "metadata": {},
   "outputs": [],
   "source": [
    "import random\n",
    "# Generate random departure times in hh:mm format\n",
    "def generate_random_dep_time():\n",
    "    random_hour = random.randint(7, 22)\n",
    "    random_minute = random.randint(0, 59)\n",
    "    return f'{random_hour:02d}:{random_minute:02d}'\n",
    "\n",
    "# Add a new column 'dep_time' with random departure times\n",
    "data['dep_time'] = [generate_random_dep_time() for _ in range(len(data))]\n",
    "data['arr_time'] = [generate_random_dep_time() for _ in range(len(data))]\n",
    "data.head()"
   ]
  },
  {
   "cell_type": "code",
   "execution_count": null,
   "metadata": {},
   "outputs": [],
   "source": [
    "# Calculate total duration in minutes and handle negative cases\n",
    "def calculate_total_duration(row):\n",
    "    dep_hour, dep_minute = map(int, row['dep_time'].split(':'))\n",
    "    arr_hour, arr_minute = map(int, row['arr_time'].split(':'))\n",
    "\n",
    "    total_minutes = (arr_hour - dep_hour) * 60 + (arr_minute - dep_minute)\n",
    "    return max(total_minutes, 0)\n",
    "\n",
    "# Add a new column 'total_duration' with the calculated total duration\n",
    "data['total_F'] = data.apply(calculate_total_duration, axis=1)\n",
    "\n",
    "# Set minimum activity duration\n",
    "minimum_activity_duration = 5  # in minutes\n",
    "\n",
    "# Calculate total_T by subtracting minimum_activity_duration and handling negative cases\n",
    "data['total_T'] = data['total_F'].apply(lambda duration: max(duration - minimum_activity_duration, 0))\n",
    "data.head()"
   ]
  },
  {
   "cell_type": "code",
   "execution_count": null,
   "metadata": {},
   "outputs": [],
   "source": [
    "data=data.rename(columns={'travel_duration':'Shrt_T'})\n",
    "data.head()"
   ]
  },
  {
   "cell_type": "code",
   "execution_count": null,
   "metadata": {},
   "outputs": [],
   "source": [
    "# Calculate service area Serv_Tbig and Serv_Tsm\n",
    "def calculate_Serv_Tbig(shortt,totalt):\n",
    "    Tbig = shortt + (totalt-shortt)/2\n",
    "    return max(Tbig, 0)\n",
    "# Add a new column 'total_duration' with the calculated total duration\n",
    "data['Serv_Tbig'] = data.apply(lambda row: calculate_Serv_Tbig(row['Shrt_T'], row['total_T']), axis=1)\n",
    "data['Serv_Tsm'] = data['total_T']/2\n",
    "data.head()"
   ]
  },
  {
   "cell_type": "code",
   "execution_count": null,
   "metadata": {},
   "outputs": [],
   "source": [
    "data.to_csv('sample_serTbig.csv', index=False)"
   ]
  }
 ],
 "metadata": {
  "kernelspec": {
   "display_name": "Python 3",
   "language": "python",
   "name": "python3"
  },
  "language_info": {
   "codemirror_mode": {
    "name": "ipython",
    "version": 3
   },
   "file_extension": ".py",
   "mimetype": "text/x-python",
   "name": "python",
   "nbconvert_exporter": "python",
   "pygments_lexer": "ipython3",
   "version": "3.9.16"
  },
  "orig_nbformat": 4
 },
 "nbformat": 4,
 "nbformat_minor": 2
}
