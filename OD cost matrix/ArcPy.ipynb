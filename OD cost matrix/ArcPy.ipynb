{
 "cells": [
  {
   "cell_type": "code",
   "execution_count": null,
   "metadata": {},
   "outputs": [],
   "source": [
    "import pandas as pd\n",
    "import sys\n",
    "import os\n",
    "import datetime\n",
    "import arcpy"
   ]
  },
  {
   "cell_type": "code",
   "execution_count": null,
   "metadata": {},
   "outputs": [],
   "source": [
    "import pandas as pd\n",
    "import geopandas as gpd\n",
    "from shapely.geometry import Point\n",
    "\n",
    "# Read the CSV file into a pandas DataFrame\n",
    "csv_file = \"TAZ_origin.csv\"\n",
    "df = pd.read_csv(csv_file)\n",
    "\n",
    "# Define the coordinate reference system (CRS) using EPSG code\n",
    "crs = \"EPSG:26912\"  # or \"EPSG:26913\" depending on the SPCS you are using\n",
    "\n",
    "# Create a GeoDataFrame from the DataFrame with the defined CRS\n",
    "geometry = [Point(xy) for xy in zip(df['X'], df['Y'])]\n",
    "gdf = gpd.GeoDataFrame(df, geometry=geometry, crs=crs)\n",
    "\n",
    "# Define the output shapefile name\n",
    "output_shapefile = \"shapefile.shp\"\n",
    "\n",
    "# Save the GeoDataFrame as a shapefile\n",
    "gdf[['hptripid', 'tripID', 'hhmemberid',\n",
    "    'o_purp_t','depart_hhm','mode_t','hhsize',\n",
    "    'workers','hh_income','num_veh','age','gender',\n",
    "    'emp_text','education','licensed','limitmobil','h_CoTAZID_v30','o_CoTAZID_v30',\n",
    "    'o_fixed','d_fixed','d_purp_t','arrive_hhm','d_CoTAZID_v30','ACRES','DEVACRES',\n",
    "    'DEVPBLEPCT','CO_NAME',\n",
    "    'CITY_NAME']].to_file(output_shapefile, driver='ESRI Shapefile')"
   ]
  }
 ],
 "metadata": {
  "kernelspec": {
   "display_name": "base",
   "language": "python",
   "name": "python3"
  },
  "language_info": {
   "name": "python",
   "version": "3.9.16"
  },
  "orig_nbformat": 4
 },
 "nbformat": 4,
 "nbformat_minor": 2
}
