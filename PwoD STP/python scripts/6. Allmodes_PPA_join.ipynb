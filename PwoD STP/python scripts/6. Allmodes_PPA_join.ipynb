{
 "cells": [
  {
   "cell_type": "code",
   "execution_count": null,
   "metadata": {},
   "outputs": [],
   "source": [
    "import arcpy\n",
    "import os\n",
    "import time \n",
    "\n",
    "# Record the start time\n",
    "start_time = time.time()\n",
    "\n",
    "# Set the workspace\n",
    "workspace = rf\"E:\\Space-Time-Prism-Model\\PwoD STP\\MyPwoDSTPProject\\MyPwoDSTPProject.gdb\"\n",
    "arcpy.env.workspace = workspace\n",
    "arcpy.env.overwriteOutput = True\n",
    "\n",
    "modes = ['Bike', 'Walk', 'Transit','Drive'] \n",
    "\n",
    "for mode in modes:\n",
    "    PPA = fr\"E:\\Space-Time-Prism-Model\\PwoD STP\\PPA\\PPA_{mode}.shp\"\n",
    "    origin_file = fr\"E:\\Space-Time-Prism-Model\\PwoD STP\\Data\\Data_Shapefiles\\origin_{mode}_filtered.shp\"\n",
    "    output_dir = fr\"E:\\Space-Time-Prism-Model\\PwoD STP\\PPA_join\"\n",
    "    output_file = os.path.join(output_dir, f\"{mode}_PPA_join.shp\")\n",
    "    \n",
    "    # Check if output directory exists, if not create it\n",
    "    if not os.path.exists(output_dir):\n",
    "        os.makedirs(output_dir, exist_ok=True)\n",
    "    \n",
    "    # Perform the join\n",
    "    arcpy.management.JoinField(PPA, \"hptripid\", origin_file, \"hptripid\")\n",
    "\n",
    "    # If necessary, copy the result to the output file\n",
    "    arcpy.management.CopyFeatures(PPA, output_file)\n",
    "\n",
    "# Calculate and display the elapsed time\n",
    "elapsed_time = time.time() - start_time\n",
    "print(f\"Elapsed time: {elapsed_time} seconds\")"
   ]
  }
 ],
 "metadata": {
  "kernelspec": {
   "display_name": "Python 3",
   "language": "python",
   "name": "python3"
  },
  "language_info": {
   "codemirror_mode": {
    "name": "ipython",
    "version": 3
   },
   "file_extension": ".py",
   "mimetype": "text/x-python",
   "name": "python",
   "nbconvert_exporter": "python",
   "pygments_lexer": "ipython3",
   "version": "3.9.16"
  },
  "orig_nbformat": 4
 },
 "nbformat": 4,
 "nbformat_minor": 2
}
