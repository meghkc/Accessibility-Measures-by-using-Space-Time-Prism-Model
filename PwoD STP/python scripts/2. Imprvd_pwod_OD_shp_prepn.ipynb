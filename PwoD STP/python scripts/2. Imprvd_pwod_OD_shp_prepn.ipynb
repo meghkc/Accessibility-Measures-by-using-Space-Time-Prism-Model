{
 "cells": [
  {
   "cell_type": "markdown",
   "metadata": {},
   "source": [
    "### Read Mode Specific Origin Destination csv Data and make it to shapefile"
   ]
  },
  {
   "cell_type": "code",
   "execution_count": 1,
   "metadata": {},
   "outputs": [
    {
     "name": "stdout",
     "output_type": "stream",
     "text": [
      "Shapefile for Walk mode saved to C:\\Users\\kcmeg\\Box\\Paper to study for 10 sept\\Travel demand modelling\\Space-Time-Prism-Model\\PwoD STP\\Data\\origin_Walk_shp\\origin_Walk.shp\n",
      "Shapefile for Bike mode saved to C:\\Users\\kcmeg\\Box\\Paper to study for 10 sept\\Travel demand modelling\\Space-Time-Prism-Model\\PwoD STP\\Data\\origin_Bike_shp\\origin_Bike.shp\n",
      "Shapefile for Transit mode saved to C:\\Users\\kcmeg\\Box\\Paper to study for 10 sept\\Travel demand modelling\\Space-Time-Prism-Model\\PwoD STP\\Data\\origin_Transit_shp\\origin_Transit.shp\n",
      "Shapefile for Drive mode saved to C:\\Users\\kcmeg\\Box\\Paper to study for 10 sept\\Travel demand modelling\\Space-Time-Prism-Model\\PwoD STP\\Data\\origin_Drive_shp\\origin_Drive.shp\n",
      "Shapefile for Walk mode saved to C:\\Users\\kcmeg\\Box\\Paper to study for 10 sept\\Travel demand modelling\\Space-Time-Prism-Model\\PwoD STP\\Data\\destn_Walk_shp\\destn_Walk.shp\n",
      "Shapefile for Bike mode saved to C:\\Users\\kcmeg\\Box\\Paper to study for 10 sept\\Travel demand modelling\\Space-Time-Prism-Model\\PwoD STP\\Data\\destn_Bike_shp\\destn_Bike.shp\n",
      "Shapefile for Transit mode saved to C:\\Users\\kcmeg\\Box\\Paper to study for 10 sept\\Travel demand modelling\\Space-Time-Prism-Model\\PwoD STP\\Data\\destn_Transit_shp\\destn_Transit.shp\n",
      "Shapefile for Drive mode saved to C:\\Users\\kcmeg\\Box\\Paper to study for 10 sept\\Travel demand modelling\\Space-Time-Prism-Model\\PwoD STP\\Data\\destn_Drive_shp\\destn_Drive.shp\n",
      "The script took 13.426750421524048 seconds to complete.\n"
     ]
    }
   ],
   "source": [
    "import os\n",
    "import arcpy\n",
    "import time\n",
    "from contextlib import contextmanager\n",
    "from pathlib import Path\n",
    "\n",
    "# Define constants\n",
    "WORKSPACE = Path(fr\"C:\\Users\\kcmeg\\Box\\Paper to study for 10 sept\\Travel demand modelling\\Space-Time-Prism-Model\\PwoD STP\\MyPwoDSTPProject\\MyPwoDSTPProject.gdb\")\n",
    "SPATIAL_REFERENCE = arcpy.SpatialReference(\"NAD 1983 UTM Zone 12N\")\n",
    "MODES = ['Walk', 'Bike', 'Transit', 'Drive']\n",
    "\n",
    "@contextmanager\n",
    "def timer():\n",
    "    start_time = time.time()\n",
    "    yield\n",
    "    end_time = time.time()\n",
    "    print(f\"The script took {end_time - start_time} seconds to complete.\")\n",
    "\n",
    "def ensure_directory_exists(directory):\n",
    "    os.makedirs(directory, exist_ok=True)\n",
    "\n",
    "def create_shapefile_from_csv(input_dir, output_dir, file_prefix):\n",
    "    ensure_directory_exists(output_dir)\n",
    "    for mode in MODES:\n",
    "        input_file_path = input_dir / f\"{file_prefix}_pwod_{mode}.csv\"\n",
    "        output_sub_dir = output_dir / f\"{file_prefix}_{mode}_shp\"\n",
    "        output_file_path = output_sub_dir / f\"{file_prefix}_{mode}.shp\"\n",
    "        ensure_directory_exists(output_sub_dir)\n",
    "        \n",
    "        xy_layer = \"xy_layer\"\n",
    "        arcpy.management.MakeXYEventLayer(\n",
    "            table=str(input_file_path), \n",
    "            in_x_field=\"X\", \n",
    "            in_y_field=\"Y\", \n",
    "            out_layer=xy_layer, \n",
    "            spatial_reference=SPATIAL_REFERENCE\n",
    "        )\n",
    "        arcpy.management.CopyFeatures(\n",
    "            in_features=xy_layer, \n",
    "            out_feature_class=str(output_file_path)\n",
    "        )\n",
    "        print(f'Shapefile for {mode} mode saved to {output_file_path}')\n",
    "        arcpy.management.Delete(xy_layer)\n",
    "\n",
    "def main():\n",
    "    arcpy.env.workspace = str(WORKSPACE)\n",
    "    arcpy.env.overwriteOutput = True\n",
    "\n",
    "    input_dir = Path(fr\"C:\\Users\\kcmeg\\Box\\Paper to study for 10 sept\\Travel demand modelling\\Space-Time-Prism-Model\\PwoD STP\\Data\")\n",
    "    output_dir = Path(fr\"C:\\Users\\kcmeg\\Box\\Paper to study for 10 sept\\Travel demand modelling\\Space-Time-Prism-Model\\PwoD STP\\Data\")\n",
    "    create_shapefile_from_csv(input_dir, output_dir, \"origin\")\n",
    "    create_shapefile_from_csv(input_dir, output_dir, \"destn\")\n",
    "\n",
    "if __name__ == \"__main__\":\n",
    "    with timer():\n",
    "        main()"
   ]
  }
 ],
 "metadata": {
  "kernelspec": {
   "display_name": "Python 3",
   "language": "python",
   "name": "python3"
  },
  "language_info": {
   "codemirror_mode": {
    "name": "ipython",
    "version": 3
   },
   "file_extension": ".py",
   "mimetype": "text/x-python",
   "name": "python",
   "nbconvert_exporter": "python",
   "pygments_lexer": "ipython3",
   "version": "3.9.16"
  },
  "orig_nbformat": 4
 },
 "nbformat": 4,
 "nbformat_minor": 2
}
