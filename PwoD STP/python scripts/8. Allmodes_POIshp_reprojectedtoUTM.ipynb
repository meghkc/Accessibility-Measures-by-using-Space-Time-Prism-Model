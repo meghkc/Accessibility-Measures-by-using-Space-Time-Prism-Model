{
 "cells": [
  {
   "cell_type": "code",
   "execution_count": 1,
   "metadata": {},
   "outputs": [
    {
     "name": "stdout",
     "output_type": "stream",
     "text": [
      "Reprojection completed for all shapefiles in Transit mode.\n",
      "All modes processed.\n"
     ]
    }
   ],
   "source": [
    "import arcpy\n",
    "import os\n",
    "\n",
    "# Set environment\n",
    "workspace = rf\"C:\\Users\\kcmeg\\Box\\Paper to study for 10 sept\\Travel demand modelling\\Space-Time-Prism-Model\\PwoD STP\\MyPwoDSTPProject\\MyPwoDSTPProject.gdb\"\n",
    "arcpy.env.workspace = workspace\n",
    "arcpy.env.overwriteOutput = True \n",
    "\n",
    "# List of modes to iterate over\n",
    "modes = [\"Transit\"] # , \"Walk\", \"Transit\",\"Drive\"\n",
    "\n",
    "# Spatial reference for NAD 1983 UTM Zone 12N (WKID 26912)\n",
    "out_spatial_ref = arcpy.SpatialReference(26912)\n",
    "\n",
    "for mode in modes:\n",
    "    # Directory containing the shapefiles for each mode\n",
    "    input_directory = fr\"C:\\Users\\kcmeg\\Box\\Paper to study for 10 sept\\Travel demand modelling\\Space-Time-Prism-Model\\PwoD STP\\POI_after_Ser_hr\\{mode}_POI_after_ser_hr\"\n",
    "    output_directory = os.path.join(input_directory, \"Reprojected\")  # Subdirectory for reprojected files\n",
    "\n",
    "    # Create the output directory if it doesn't exist\n",
    "    if not os.path.exists(output_directory):\n",
    "        os.makedirs(output_directory, exist_ok=True)\n",
    "\n",
    "    # Iterate through all shapefiles in the input directory\n",
    "    for filename in os.listdir(input_directory):\n",
    "        if filename.endswith(\".shp\"):\n",
    "            input_shapefile = os.path.join(input_directory, filename)\n",
    "            output_shapefile = os.path.join(output_directory, filename)  # Save in the subdirectory\n",
    "\n",
    "            # Reproject the shapefile\n",
    "            arcpy.Project_management(input_shapefile, output_shapefile, out_spatial_ref)\n",
    "\n",
    "    print(f\"Reprojection completed for all shapefiles in {mode} mode.\")\n",
    "\n",
    "print(\"All modes processed.\")"
   ]
  }
 ],
 "metadata": {
  "kernelspec": {
   "display_name": "Python 3",
   "language": "python",
   "name": "python3"
  },
  "language_info": {
   "codemirror_mode": {
    "name": "ipython",
    "version": 3
   },
   "file_extension": ".py",
   "mimetype": "text/x-python",
   "name": "python",
   "nbconvert_exporter": "python",
   "pygments_lexer": "ipython3",
   "version": "3.9.16"
  }
 },
 "nbformat": 4,
 "nbformat_minor": 2
}
