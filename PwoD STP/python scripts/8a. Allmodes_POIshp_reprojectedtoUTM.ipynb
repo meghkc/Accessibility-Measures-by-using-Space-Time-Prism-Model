{
 "cells": [
  {
   "cell_type": "code",
   "execution_count": null,
   "metadata": {},
   "outputs": [],
   "source": [
    "import arcpy\n",
    "import os\n",
    "# Set workspace directory\n",
    "workspace_dir = \"E:\\\\Space-Time-Prism-Model\\\\PwoD STP\"\n",
    "# Directory to store all reprojected GDBs\n",
    "reprojected_gdb_dir = os.path.join(workspace_dir, \"GDBReprojected\")\n",
    "# Ensure the directory exists\n",
    "if not os.path.exists(reprojected_gdb_dir):\n",
    "    os.makedirs(reprojected_gdb_dir)\n",
    "# Modes to process\n",
    "modes = [\"Bike\", \"Transit\", \"Walk\", \"Drive\"]\n",
    "# Spatial reference for NAD 1983 UTM Zone 12N (WKID 26912)\n",
    "out_spatial_ref = arcpy.SpatialReference(26912)\n",
    "for mode in modes:\n",
    "    # Create a geodatabase name for each mode\n",
    "    gdb_name = f\"{mode}_GDBReprojected.gdb\"\n",
    "    # Create the geodatabase path within the GDBReprojected directory\n",
    "    gdb_path = os.path.join(reprojected_gdb_dir, gdb_name)\n",
    "    # Check if the GDB exists, if not, create it\n",
    "    if not arcpy.Exists(gdb_path):\n",
    "        arcpy.CreateFileGDB_management(reprojected_gdb_dir, gdb_name)\n",
    "        print(f\"Created Geodatabase at {gdb_path}\")\n",
    "    # Set the environment workspace to the newly created GDB for the current mode\n",
    "    arcpy.env.workspace = gdb_path\n",
    "    arcpy.env.overwriteOutput = True\n",
    "    # Directory containing the shapefiles for each mode\n",
    "    input_directory = fr\"E:\\Space-Time-Prism-Model\\PwoD STP\\POI_after_Ser_hr\\{mode}_POI_after_ser_hr\"\n",
    "    # Iterate through all shapefiles in the input directory\n",
    "    for filename in os.listdir(input_directory):\n",
    "        if filename.endswith(\".shp\"):\n",
    "            input_shapefile = os.path.join(input_directory, filename)\n",
    "            # Define the output feature class path within the GDB\n",
    "            output_feature_class = os.path.join(gdb_path, f\"{os.path.splitext(filename)[0]}\")\n",
    "            # Reproject the shapefile and save as a feature class in the GDB\n",
    "            arcpy.Project_management(input_shapefile, output_feature_class, out_spatial_ref)\n",
    "            # print(f\"Reprojected and saved: {output_feature_class}\")\n",
    "    print(f\"Reprojection completed for all shapefiles in {mode} mode.\")\n",
    "print(\"All modes processed.\")"
   ]
  }
 ],
 "metadata": {
  "kernelspec": {
   "display_name": "Python 3",
   "language": "python",
   "name": "python3"
  },
  "language_info": {
   "codemirror_mode": {
    "name": "ipython",
    "version": 3
   },
   "file_extension": ".py",
   "mimetype": "text/x-python",
   "name": "python",
   "nbconvert_exporter": "python",
   "pygments_lexer": "ipython3",
   "version": "3.9.16"
  }
 },
 "nbformat": 4,
 "nbformat_minor": 2
}
