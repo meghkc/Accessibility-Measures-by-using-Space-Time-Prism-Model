{
 "cells": [
  {
   "cell_type": "code",
   "execution_count": 1,
   "metadata": {},
   "outputs": [
    {
     "name": "stdout",
     "output_type": "stream",
     "text": [
      "Data for Walk mode saved to E:\\Space-Time-Prism-Model\\PwoD STP\\Data\\origin_pwod_Walk.csv\n",
      "Data for Bike mode saved to E:\\Space-Time-Prism-Model\\PwoD STP\\Data\\origin_pwod_Bike.csv\n",
      "Data for Transit mode saved to E:\\Space-Time-Prism-Model\\PwoD STP\\Data\\origin_pwod_Transit.csv\n",
      "Data for Drive mode saved to E:\\Space-Time-Prism-Model\\PwoD STP\\Data\\origin_pwod_Drive.csv\n",
      "Data for Walk mode saved to E:\\Space-Time-Prism-Model\\PwoD STP\\Data\\destn_pwod_Walk.csv\n",
      "Data for Bike mode saved to E:\\Space-Time-Prism-Model\\PwoD STP\\Data\\destn_pwod_Bike.csv\n",
      "Data for Transit mode saved to E:\\Space-Time-Prism-Model\\PwoD STP\\Data\\destn_pwod_Transit.csv\n",
      "Data for Drive mode saved to E:\\Space-Time-Prism-Model\\PwoD STP\\Data\\destn_pwod_Drive.csv\n",
      "The script took 0.14799785614013672 seconds to complete.\n"
     ]
    }
   ],
   "source": [
    "import os\n",
    "import time\n",
    "import pandas as pd\n",
    "\n",
    "# Constants\n",
    "DATA_DIR = fr\"E:\\Space-Time-Prism-Model\\PwoD STP\\Data\"\n",
    "OUTPUT_DIR = fr\"E:\\Space-Time-Prism-Model\\PwoD STP\\Data\"\n",
    "MODES = ['Walk', 'Bike', 'Transit', 'Drive']\n",
    "MODE_REPLACEMENTS = {'auto': 'Drive','walk': 'Walk','transit': 'Transit','bike': 'Bike'}\n",
    "\n",
    "def load_data(file_name):\n",
    "    return pd.read_csv(os.path.join(DATA_DIR, file_name))\n",
    "\n",
    "def convert_hhm_to_minutes(hhm):\n",
    "    \"\"\"Convert HHM format to minutes past midnight.\"\"\"\n",
    "    hours, minutes = divmod(hhm, 100)\n",
    "    return (hours * 60) + minutes\n",
    "\n",
    "def process_data(df):\n",
    "    df = df.copy()  # Create a copy of the DataFrame to avoid SettingWithCopyWarning\n",
    "    for col in ['depart_hhm', 'arrive_hhm']:\n",
    "        df[f'{col}_minutes'] = df[col].apply(convert_hhm_to_minutes)\n",
    "    df['Total_F'] = df['arrive_hhm_minutes'] - df['depart_hhm_minutes']\n",
    "    df['Total_T'] = df['Total_F'] - 5\n",
    "    df = df[df['mode_t'] != 'other']\n",
    "    df.loc[:, 'mode_t'] = df['mode_t'].replace(MODE_REPLACEMENTS)  # Use .loc to avoid SettingWithCopyWarning\n",
    "    return df\n",
    "\n",
    "def save_data(df, output_dir, file_prefix):\n",
    "    os.makedirs(output_dir, exist_ok=True)\n",
    "    for mode in MODES:\n",
    "        mode_df = df[df['mode_t'] == mode]\n",
    "        output_file_name = f'{file_prefix}_{mode}.csv'\n",
    "        output_file_path = os.path.join(output_dir, output_file_name)\n",
    "        mode_df.to_csv(output_file_path, index=False)\n",
    "        print(f'Data for {mode} mode saved to {output_file_path}')\n",
    "\n",
    "def main():\n",
    "    # Record the start time\n",
    "    start_time = time.time()\n",
    "\n",
    "    # Load, process, and save origin data\n",
    "    data_pwod = load_data('TAZ_origin_PwoD_PSM2.csv')\n",
    "    # data_pwod=data_pwod[data_pwod['CO_NAME']=='SALT LAKE']\n",
    "    data_pwod = process_data(data_pwod)\n",
    "    save_data(data_pwod, OUTPUT_DIR, 'origin_pwod')\n",
    "\n",
    "    # Load, process, and save destination data\n",
    "    data_pwod_dest = load_data('TAZ_destination_PwoD_PSM2.csv')\n",
    "    # data_pwod_dest=data_pwod_dest[data_pwod_dest['CO_NAME']=='SALT LAKE']\n",
    "    data_pwod_dest = process_data(data_pwod_dest)\n",
    "    save_data(data_pwod_dest, OUTPUT_DIR, 'destn_pwod')\n",
    "\n",
    "    # Record the end time and print the total processing time\n",
    "    end_time = time.time()\n",
    "    print(f\"The script took {end_time - start_time} seconds to complete.\")\n",
    "\n",
    "if __name__ == \"__main__\": \n",
    "    main() "
   ]
  }
 ],
 "metadata": {
  "kernelspec": {
   "display_name": "Python 3",
   "language": "python",
   "name": "python3"
  },
  "language_info": {
   "codemirror_mode": {
    "name": "ipython",
    "version": 3
   },
   "file_extension": ".py",
   "mimetype": "text/x-python",
   "name": "python",
   "nbconvert_exporter": "python",
   "pygments_lexer": "ipython3",
   "version": "3.9.13"
  },
  "orig_nbformat": 4
 },
 "nbformat": 4,
 "nbformat_minor": 2
}
